{
 "metadata": {
  "name": ""
 },
 "nbformat": 3,
 "nbformat_minor": 0,
 "worksheets": [
  {
   "cells": [
    {
     "cell_type": "code",
     "collapsed": false,
     "input": [
      "%pylab inline\n",
      "from scipy.stats import *"
     ],
     "language": "python",
     "metadata": {},
     "outputs": [
      {
       "output_type": "stream",
       "stream": "stdout",
       "text": [
        "Populating the interactive namespace from numpy and matplotlib\n"
       ]
      }
     ],
     "prompt_number": 2
    },
    {
     "cell_type": "markdown",
     "metadata": {},
     "source": [
      "Calculations relevant to simulated ARG unit test\n",
      "------------------------------------------------\n",
      "\n",
      "Independent numerical estimate of expected arrival height for recombinant edge, given a  population size $N=1$, recombination parameter $\\rho=1$ and an alignment containing two sequences."
     ]
    },
    {
     "cell_type": "code",
     "collapsed": false,
     "input": [
      "def getArrivalTimes(N, rho):\n",
      "    coalTime = random.exponential(scale=N)\n",
      "    \n",
      "    nRecomb = random.poisson(lam=rho/2.0*coalTime*2.0)\n",
      "    depTimes = zeros(nRecomb)\n",
      "    arrTimes = zeros(nRecomb)\n",
      "    for r in range(nRecomb):\n",
      "        depTime = random.uniform(low=0, high=coalTime)\n",
      "    \n",
      "        arrTime = depTime + random.exponential(scale=N/2.0)\n",
      "        if arrTime > coalTime:\n",
      "            arrTime = coalTime + random.exponential(scale=N)\n",
      "        \n",
      "        depTimes[r] = depTime\n",
      "        arrTimes[r] = arrTime\n",
      "    \n",
      "    return arrTimes\n",
      "\n",
      "N = 1.0\n",
      "rho = 1.0\n",
      "\n",
      "nIter = 10000000\n",
      "arrivalTimes = []\n",
      "for i in range(nIter):\n",
      "    arrivalTimes.extend(getArrivalTimes(N, rho))"
     ],
     "language": "python",
     "metadata": {},
     "outputs": [],
     "prompt_number": 105
    },
    {
     "cell_type": "code",
     "collapsed": false,
     "input": [
      "mean(arrivalTimes)"
     ],
     "language": "python",
     "metadata": {},
     "outputs": [
      {
       "metadata": {},
       "output_type": "pyout",
       "prompt_number": 107,
       "text": [
        "1.6655159847110421"
       ]
      }
     ],
     "prompt_number": 107
    }
   ],
   "metadata": {}
  }
 ]
}