{
 "metadata": {
  "name": ""
 },
 "nbformat": 3,
 "nbformat_minor": 0,
 "worksheets": [
  {
   "cells": [
    {
     "cell_type": "code",
     "collapsed": false,
     "input": [
      "%pylab inline\n",
      "pylab.rcParams['figure.figsize'] = (9.0, 7.0)\n",
      "pylab.rcParams['font.size'] = 16\n",
      "from pandas import *"
     ],
     "language": "python",
     "metadata": {},
     "outputs": [
      {
       "output_type": "stream",
       "stream": "stdout",
       "text": [
        "Populating the interactive namespace from numpy and matplotlib\n"
       ]
      }
     ],
     "prompt_number": 1
    },
    {
     "cell_type": "markdown",
     "metadata": {},
     "source": [
      "HR testing\n",
      "----------\n",
      "\n",
      "This problem probably has to do with the add/remove proposal kernal.  I have a unit test which explicitly checks that the product of the HRs used by this operator from state $x$ to $x'$ and state $x'$ to $x$ is one.  What I haven't checked is whether the distribution of states obtained in one direction matches the distribution assumed in the HR calculation."
     ]
    },
    {
     "cell_type": "code",
     "collapsed": false,
     "input": [
      "df = read_table('addRemoveProposalSamples.txt', sep=' ')\n",
      "df.describe()"
     ],
     "language": "python",
     "metadata": {},
     "outputs": [
      {
       "html": [
        "<div style=\"max-height:1000px;max-width:1500px;overflow:auto;\">\n",
        "<table border=\"1\" class=\"dataframe\">\n",
        "  <thead>\n",
        "    <tr style=\"text-align: right;\">\n",
        "      <th></th>\n",
        "      <th>logPdepHeight</th>\n",
        "      <th>departureHeight</th>\n",
        "      <th>logPedgeLength</th>\n",
        "      <th>edgeLength</th>\n",
        "    </tr>\n",
        "  </thead>\n",
        "  <tbody>\n",
        "    <tr>\n",
        "      <th>count</th>\n",
        "      <td> 10000.00000</td>\n",
        "      <td> 10000.000000</td>\n",
        "      <td> 10000.000000</td>\n",
        "      <td> 10000.000000</td>\n",
        "    </tr>\n",
        "    <tr>\n",
        "      <th>mean</th>\n",
        "      <td>    -1.85607</td>\n",
        "      <td>     1.174670</td>\n",
        "      <td>    -1.200588</td>\n",
        "      <td>     0.646794</td>\n",
        "    </tr>\n",
        "    <tr>\n",
        "      <th>std</th>\n",
        "      <td>     0.00000</td>\n",
        "      <td>     0.000001</td>\n",
        "      <td>     1.006349</td>\n",
        "      <td>     0.670421</td>\n",
        "    </tr>\n",
        "    <tr>\n",
        "      <th>min</th>\n",
        "      <td>    -1.85607</td>\n",
        "      <td>     1.174670</td>\n",
        "      <td>    -9.420110</td>\n",
        "      <td>     0.000026</td>\n",
        "    </tr>\n",
        "    <tr>\n",
        "      <th>25%</th>\n",
        "      <td>    -1.85607</td>\n",
        "      <td>     1.174670</td>\n",
        "      <td>    -1.740847</td>\n",
        "      <td>     0.217555</td>\n",
        "    </tr>\n",
        "    <tr>\n",
        "      <th>50%</th>\n",
        "      <td>    -1.85607</td>\n",
        "      <td>     1.174670</td>\n",
        "      <td>    -0.981916</td>\n",
        "      <td>     0.490958</td>\n",
        "    </tr>\n",
        "    <tr>\n",
        "      <th>75%</th>\n",
        "      <td>    -1.85607</td>\n",
        "      <td>     1.174670</td>\n",
        "      <td>    -0.435110</td>\n",
        "      <td>     0.870422</td>\n",
        "    </tr>\n",
        "    <tr>\n",
        "      <th>max</th>\n",
        "      <td>    -1.85607</td>\n",
        "      <td>     1.174670</td>\n",
        "      <td>    -0.000051</td>\n",
        "      <td>     8.204530</td>\n",
        "    </tr>\n",
        "  </tbody>\n",
        "</table>\n",
        "<p>8 rows \u00d7 4 columns</p>\n",
        "</div>"
       ],
       "metadata": {},
       "output_type": "pyout",
       "prompt_number": 28,
       "text": [
        "       logPdepHeight  departureHeight  logPedgeLength    edgeLength\n",
        "count    10000.00000     10000.000000    10000.000000  10000.000000\n",
        "mean        -1.85607         1.174670       -1.200588      0.646794\n",
        "std          0.00000         0.000001        1.006349      0.670421\n",
        "min         -1.85607         1.174670       -9.420110      0.000026\n",
        "25%         -1.85607         1.174670       -1.740847      0.217555\n",
        "50%         -1.85607         1.174670       -0.981916      0.490958\n",
        "75%         -1.85607         1.174670       -0.435110      0.870422\n",
        "max         -1.85607         1.174670       -0.000051      8.204530\n",
        "\n",
        "[8 rows x 4 columns]"
       ]
      }
     ],
     "prompt_number": 28
    },
    {
     "cell_type": "code",
     "collapsed": false,
     "input": [
      "df.edgeLength.hist(bins=100, normed=True)"
     ],
     "language": "python",
     "metadata": {},
     "outputs": [
      {
       "metadata": {},
       "output_type": "pyout",
       "prompt_number": 30,
       "text": [
        "<matplotlib.axes.AxesSubplot at 0x7f173d42fa90>"
       ]
      },
      {
       "metadata": {},
       "output_type": "display_data",
       "png": "[encoded data removed]",
       "text": [
        "<matplotlib.figure.Figure at 0x7f173d43d950>"
       ]
      }
     ],
     "prompt_number": 30
    },
    {
     "cell_type": "code",
     "collapsed": false,
     "input": [
      "plot(df.edgeLength, exp(df.logPedgeLength), '.')"
     ],
     "language": "python",
     "metadata": {},
     "outputs": [
      {
       "metadata": {},
       "output_type": "pyout",
       "prompt_number": 31,
       "text": [
        "[<matplotlib.lines.Line2D at 0x7f173d0b1710>]"
       ]
      },
      {
       "metadata": {},
       "output_type": "display_data",
       "png": "[encoded data removed]",
       "text": [
        "<matplotlib.figure.Figure at 0x7f173d54dc50>"
       ]
      }
     ],
     "prompt_number": 31
    },
    {
     "cell_type": "code",
     "collapsed": false,
     "input": [],
     "language": "python",
     "metadata": {},
     "outputs": []
    }
   ],
   "metadata": {}
  }
 ]
}