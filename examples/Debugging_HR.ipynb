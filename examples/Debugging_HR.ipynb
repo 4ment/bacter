{
 "metadata": {
  "name": ""
 },
 "nbformat": 3,
 "nbformat_minor": 0,
 "worksheets": [
  {
   "cells": [
    {
     "cell_type": "code",
     "collapsed": false,
     "input": [
      "%pylab inline\n",
      "pylab.rcParams['figure.figsize'] = (9.0, 7.0)\n",
      "pylab.rcParams['font.size'] = 16\n",
      "from pandas import *"
     ],
     "language": "python",
     "metadata": {},
     "outputs": [
      {
       "output_type": "stream",
       "stream": "stdout",
       "text": [
        "Populating the interactive namespace from numpy and matplotlib\n"
       ]
      }
     ],
     "prompt_number": 1
    },
    {
     "cell_type": "markdown",
     "metadata": {},
     "source": [
      "HR testing\n",
      "----------\n",
      "\n",
      "This problem probably has to do with the add/remove proposal kernal.  I have a unit test which explicitly checks that the product of the HRs used by this operator from state $x$ to $x'$ and state $x'$ to $x$ is one.  What I haven't checked is whether the distribution of states obtained in one direction matches the distribution assumed in the HR calculation."
     ]
    },
    {
     "cell_type": "code",
     "collapsed": false,
     "input": [],
     "language": "python",
     "metadata": {},
     "outputs": []
    }
   ],
   "metadata": {}
  }
 ]
}