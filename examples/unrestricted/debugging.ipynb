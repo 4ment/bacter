{
 "metadata": {
  "name": "",
  "signature": "sha256:da54f69495382d3d9fff86b5b955495b25ac9dda9aee05c822a9adb52a659ca6"
 },
 "nbformat": 3,
 "nbformat_minor": 0,
 "worksheets": [
  {
   "cells": [
    {
     "cell_type": "code",
     "collapsed": false,
     "input": [
      "%pylab inline\n",
      "pylab.rcParams['figure.figsize'] = (9.0, 7.0)\n",
      "pylab.rcParams['font.size'] = 16\n",
      "from pandas import *"
     ],
     "language": "python",
     "metadata": {},
     "outputs": [
      {
       "output_type": "stream",
       "stream": "stdout",
       "text": [
        "Populating the interactive namespace from numpy and matplotlib\n"
       ]
      }
     ],
     "prompt_number": 1
    },
    {
     "cell_type": "code",
     "collapsed": false,
     "input": [
      "df = read_table('addRemoveTests/addRemoveTest2taxon_fixedCF.stats')\n",
      "dfs = read_table(\"ACGsimulations/simulateACGs2taxon_fixedCF.stats\")\n",
      "dfs.describe()"
     ],
     "language": "python",
     "metadata": {},
     "outputs": [
      {
       "html": [
        "<div style=\"max-height:1000px;max-width:1500px;overflow:auto;\">\n",
        "<table border=\"1\" class=\"dataframe\">\n",
        "  <thead>\n",
        "    <tr style=\"text-align: right;\">\n",
        "      <th></th>\n",
        "      <th>Sample</th>\n",
        "      <th>acg.CFheight</th>\n",
        "      <th>acg.CFlength</th>\n",
        "      <th>acg.nRecomb</th>\n",
        "      <th>acg.meanTractLength</th>\n",
        "      <th>acg.meanRegionLength</th>\n",
        "      <th>acg.meanStartSite</th>\n",
        "      <th>acg.meanEndSite</th>\n",
        "      <th>acg.randomStartSite</th>\n",
        "      <th>acg.randomEndSite</th>\n",
        "      <th>acg.meanEdgeLength</th>\n",
        "      <th>acg.meanDepartureHeight</th>\n",
        "      <th>Unnamed: 12</th>\n",
        "    </tr>\n",
        "  </thead>\n",
        "  <tbody>\n",
        "    <tr>\n",
        "      <th>count</th>\n",
        "      <td> 10000.00000</td>\n",
        "      <td> 10000.000000</td>\n",
        "      <td> 10000.000000</td>\n",
        "      <td> 10000.000000</td>\n",
        "      <td> 9996.000000</td>\n",
        "      <td> 9996.000000</td>\n",
        "      <td> 9996.000000</td>\n",
        "      <td> 9996.000000</td>\n",
        "      <td> 9996.000000</td>\n",
        "      <td> 9996.000000</td>\n",
        "      <td> 9996.000000</td>\n",
        "      <td> 9996.000000</td>\n",
        "      <td>  0</td>\n",
        "    </tr>\n",
        "    <tr>\n",
        "      <th>mean</th>\n",
        "      <td>  4999.50000</td>\n",
        "      <td>     0.799842</td>\n",
        "      <td>     1.599684</td>\n",
        "      <td>     8.069900</td>\n",
        "      <td>   49.901391</td>\n",
        "      <td>   47.519824</td>\n",
        "      <td> 4968.727340</td>\n",
        "      <td> 5017.628731</td>\n",
        "      <td> 4943.046218</td>\n",
        "      <td> 5013.086134</td>\n",
        "      <td>    0.752857</td>\n",
        "      <td>    0.400869</td>\n",
        "      <td>NaN</td>\n",
        "    </tr>\n",
        "    <tr>\n",
        "      <th>std</th>\n",
        "      <td>  2886.89568</td>\n",
        "      <td>     0.000001</td>\n",
        "      <td>     0.000001</td>\n",
        "      <td>     2.835881</td>\n",
        "      <td>   18.726054</td>\n",
        "      <td>   17.939712</td>\n",
        "      <td> 1107.931139</td>\n",
        "      <td> 1107.872879</td>\n",
        "      <td> 2900.452269</td>\n",
        "      <td> 2906.299719</td>\n",
        "      <td>    0.343970</td>\n",
        "      <td>    0.089063</td>\n",
        "      <td>NaN</td>\n",
        "    </tr>\n",
        "    <tr>\n",
        "      <th>min</th>\n",
        "      <td>     0.00000</td>\n",
        "      <td>     0.799842</td>\n",
        "      <td>     1.599684</td>\n",
        "      <td>     0.000000</td>\n",
        "      <td>    3.500000</td>\n",
        "      <td>    3.500000</td>\n",
        "      <td>   56.000000</td>\n",
        "      <td>   69.000000</td>\n",
        "      <td>    0.000000</td>\n",
        "      <td>    0.000000</td>\n",
        "      <td>    0.011421</td>\n",
        "      <td>    0.031958</td>\n",
        "      <td>NaN</td>\n",
        "    </tr>\n",
        "    <tr>\n",
        "      <th>25%</th>\n",
        "      <td>  2499.75000</td>\n",
        "      <td>     0.799842</td>\n",
        "      <td>     1.599684</td>\n",
        "      <td>     6.000000</td>\n",
        "      <td>   36.888889</td>\n",
        "      <td>   35.250000</td>\n",
        "      <td> 4249.414286</td>\n",
        "      <td> 4300.448485</td>\n",
        "      <td> 2413.000000</td>\n",
        "      <td> 2474.000000</td>\n",
        "      <td>    0.509055</td>\n",
        "      <td>    0.344077</td>\n",
        "      <td>NaN</td>\n",
        "    </tr>\n",
        "    <tr>\n",
        "      <th>50%</th>\n",
        "      <td>  4999.50000</td>\n",
        "      <td>     0.799842</td>\n",
        "      <td>     1.599684</td>\n",
        "      <td>     8.000000</td>\n",
        "      <td>   47.666667</td>\n",
        "      <td>   45.200000</td>\n",
        "      <td> 4983.114286</td>\n",
        "      <td> 5028.801587</td>\n",
        "      <td> 4940.000000</td>\n",
        "      <td> 5048.000000</td>\n",
        "      <td>    0.704985</td>\n",
        "      <td>    0.400375</td>\n",
        "      <td>NaN</td>\n",
        "    </tr>\n",
        "    <tr>\n",
        "      <th>75%</th>\n",
        "      <td>  7499.25000</td>\n",
        "      <td>     0.799842</td>\n",
        "      <td>     1.599684</td>\n",
        "      <td>    10.000000</td>\n",
        "      <td>   60.444444</td>\n",
        "      <td>   57.114583</td>\n",
        "      <td> 5699.166667</td>\n",
        "      <td> 5752.446429</td>\n",
        "      <td> 7438.000000</td>\n",
        "      <td> 7513.000000</td>\n",
        "      <td>    0.944547</td>\n",
        "      <td>    0.458496</td>\n",
        "      <td>NaN</td>\n",
        "    </tr>\n",
        "    <tr>\n",
        "      <th>max</th>\n",
        "      <td>  9999.00000</td>\n",
        "      <td>     0.799842</td>\n",
        "      <td>     1.599684</td>\n",
        "      <td>    20.000000</td>\n",
        "      <td>  222.000000</td>\n",
        "      <td>  222.000000</td>\n",
        "      <td> 9753.000000</td>\n",
        "      <td> 9808.500000</td>\n",
        "      <td> 9999.000000</td>\n",
        "      <td> 9999.000000</td>\n",
        "      <td>    3.600947</td>\n",
        "      <td>    0.783861</td>\n",
        "      <td>NaN</td>\n",
        "    </tr>\n",
        "  </tbody>\n",
        "</table>\n",
        "</div>"
       ],
       "metadata": {},
       "output_type": "pyout",
       "prompt_number": 2,
       "text": [
        "            Sample  acg.CFheight  acg.CFlength   acg.nRecomb  \\\n",
        "count  10000.00000  10000.000000  10000.000000  10000.000000   \n",
        "mean    4999.50000      0.799842      1.599684      8.069900   \n",
        "std     2886.89568      0.000001      0.000001      2.835881   \n",
        "min        0.00000      0.799842      1.599684      0.000000   \n",
        "25%     2499.75000      0.799842      1.599684      6.000000   \n",
        "50%     4999.50000      0.799842      1.599684      8.000000   \n",
        "75%     7499.25000      0.799842      1.599684     10.000000   \n",
        "max     9999.00000      0.799842      1.599684     20.000000   \n",
        "\n",
        "       acg.meanTractLength  acg.meanRegionLength  acg.meanStartSite  \\\n",
        "count          9996.000000           9996.000000        9996.000000   \n",
        "mean             49.901391             47.519824        4968.727340   \n",
        "std              18.726054             17.939712        1107.931139   \n",
        "min               3.500000              3.500000          56.000000   \n",
        "25%              36.888889             35.250000        4249.414286   \n",
        "50%              47.666667             45.200000        4983.114286   \n",
        "75%              60.444444             57.114583        5699.166667   \n",
        "max             222.000000            222.000000        9753.000000   \n",
        "\n",
        "       acg.meanEndSite  acg.randomStartSite  acg.randomEndSite  \\\n",
        "count      9996.000000          9996.000000        9996.000000   \n",
        "mean       5017.628731          4943.046218        5013.086134   \n",
        "std        1107.872879          2900.452269        2906.299719   \n",
        "min          69.000000             0.000000           0.000000   \n",
        "25%        4300.448485          2413.000000        2474.000000   \n",
        "50%        5028.801587          4940.000000        5048.000000   \n",
        "75%        5752.446429          7438.000000        7513.000000   \n",
        "max        9808.500000          9999.000000        9999.000000   \n",
        "\n",
        "       acg.meanEdgeLength  acg.meanDepartureHeight  Unnamed: 12  \n",
        "count         9996.000000              9996.000000            0  \n",
        "mean             0.752857                 0.400869          NaN  \n",
        "std              0.343970                 0.089063          NaN  \n",
        "min              0.011421                 0.031958          NaN  \n",
        "25%              0.509055                 0.344077          NaN  \n",
        "50%              0.704985                 0.400375          NaN  \n",
        "75%              0.944547                 0.458496          NaN  \n",
        "max              3.600947                 0.783861          NaN  "
       ]
      }
     ],
     "prompt_number": 2
    },
    {
     "cell_type": "code",
     "collapsed": false,
     "input": [
      "df['acg.meanRegionLength'].hist(bins=arange(0,150,5), alpha=0.8)\n",
      "dfs['acg.meanRegionLength'].hist(bins=arange(0,150,5), alpha=0.8)"
     ],
     "language": "python",
     "metadata": {},
     "outputs": [
      {
       "metadata": {},
       "output_type": "pyout",
       "prompt_number": 3,
       "text": [
        "<matplotlib.axes.AxesSubplot at 0x7f1188627b10>"
       ]
      },
      {
       "metadata": {},
       "output_type": "display_data",
       "png": "[encoded data removed]",
       "text": [
        "<matplotlib.figure.Figure at 0x7f1188627750>"
       ]
      }
     ],
     "prompt_number": 3
    },
    {
     "cell_type": "code",
     "collapsed": false,
     "input": [
      "df['acg.randomEndSite'].hist(bins=range(9950,10000), alpha=0.8)\n",
      "dfs['acg.randomEndSite'].hist(bins=range(9950,10000), alpha=0.8)"
     ],
     "language": "python",
     "metadata": {},
     "outputs": [
      {
       "metadata": {},
       "output_type": "pyout",
       "prompt_number": 4,
       "text": [
        "<matplotlib.axes.AxesSubplot at 0x7f118849c190>"
       ]
      },
      {
       "metadata": {},
       "output_type": "display_data",
       "png": "[encoded data removed]",
       "text": [
        "<matplotlib.figure.Figure at 0x7f11882e9890>"
       ]
      }
     ],
     "prompt_number": 4
    }
   ],
   "metadata": {}
  }
 ]
}